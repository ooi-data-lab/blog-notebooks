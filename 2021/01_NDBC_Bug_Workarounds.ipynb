{
  "nbformat": 4,
  "nbformat_minor": 0,
  "metadata": {
    "colab": {
      "name": "2021-03 NDBC Bug Workarounds.ipynb",
      "provenance": []
    },
    "kernelspec": {
      "name": "python3",
      "display_name": "Python 3"
    }
  },
  "cells": [
    {
      "cell_type": "markdown",
      "metadata": {
        "id": "XU9dp1brgo1d"
      },
      "source": [
        "# A quick fix for a common NDBC DODS error\n",
        "By Sage Lichtenwalner, March 9, 2021\n",
        "\n",
        "The [NDBC DODS OpenDAP server](https://dods.ndbc.noaa.gov) is a great resource, providing decades of weather and ocean data from hundreds of stations around the globe.  This dataset is a great resource for students interested in accessing a large and intuitive dataset to learn programming and data analysis skills.\n",
        "\n",
        "Unfortunately, if you try to request a long timeseries from some stations, you might run into the following error:\n",
        "\n",
        "`RuntimeError: NetCDF: file not found`\n",
        "\n",
        "If this is the case, here are 2 workarounds that might help."
      ]
    },
    {
      "cell_type": "markdown",
      "metadata": {
        "id": "rw1NTPyvhy11"
      },
      "source": [
        "## The problem\n",
        "\n",
        "First, let's setup our notebook like we normally do for the Google Colab environment.\n"
      ]
    },
    {
      "cell_type": "code",
      "metadata": {
        "colab": {
          "base_uri": "https://localhost:8080/"
        },
        "id": "-4NqkZBKD-Sq",
        "outputId": "f3b6c7bd-eed6-4f0f-b176-c834e55bcd42"
      },
      "source": [
        "# Notebook setup\n",
        "import xarray as xr\n",
        "!pip install netcdf4\n",
        "\n",
        "import matplotlib.pyplot as plt\n",
        "# Let's make our plots pretty\n",
        "import seaborn as sns\n",
        "sns.set()"
      ],
      "execution_count": null,
      "outputs": [
        {
          "output_type": "stream",
          "text": [
            "Requirement already satisfied: netcdf4 in /usr/local/lib/python3.7/dist-packages (1.5.6)\n",
            "Requirement already satisfied: numpy>=1.9 in /usr/local/lib/python3.7/dist-packages (from netcdf4) (1.19.5)\n",
            "Requirement already satisfied: cftime in /usr/local/lib/python3.7/dist-packages (from netcdf4) (1.4.1)\n"
          ],
          "name": "stdout"
        }
      ]
    },
    {
      "cell_type": "markdown",
      "metadata": {
        "id": "RdTCNA26opZn"
      },
      "source": [
        "Next, let's try to load a full timeseries for Station 44065, which has data that goes back to 2008."
      ]
    },
    {
      "cell_type": "code",
      "metadata": {
        "id": "rjTJl09cosbt"
      },
      "source": [
        "data = xr.open_dataset('https://dods.ndbc.noaa.gov/thredds/dodsC/data/stdmet/44065/44065.ncml')"
      ],
      "execution_count": null,
      "outputs": []
    },
    {
      "cell_type": "code",
      "metadata": {
        "id": "dDLStQB8o61t"
      },
      "source": [
        "# data['sea_surface_temperature'].plot() # This line will fail"
      ],
      "execution_count": null,
      "outputs": []
    },
    {
      "cell_type": "markdown",
      "metadata": {
        "id": "34kRAttSojVg"
      },
      "source": [
        "The .ncml file is really an aggregation of the other individual yearly files available for this station ([see here](https://dods.ndbc.noaa.gov/thredds/catalog/data/stdmet/44065/catalog.html)).  For some reason, when you try to load a large time range with the .ncml file, you get the \"netcdf file not found error.”\n",
        "\n",
        "I'm not quite sure if this is because the lat/lon coordinates or another variable changes in the long series, which causes an aggregation issue on the server.\n",
        "\n",
        "But as unintuitive as the error may be, we can in fact still grab all the data."
      ]
    },
    {
      "cell_type": "markdown",
      "metadata": {
        "id": "4Y9aZGrOh0Vf"
      },
      "source": [
        "## Option 1 - Make a smaller time range request\n",
        "\n",
        "Bizarrely, and perhaps annoyingly, if you change your date range to a smaller period, it works.  \n",
        "\n",
        "After a bunch of testing with this station, I found I can request 1/1/2009 to the present without issue.  But as soon as I try to add 2008, I get the error.  But 2008 to a 2-3 months shy of the present day also loads.  This is the kind of inconsistent bug that makes debugging hard.  (But at least in this case the error is consistent.)\n"
      ]
    },
    {
      "cell_type": "code",
      "metadata": {
        "colab": {
          "base_uri": "https://localhost:8080/",
          "height": 295
        },
        "id": "6yiaoDmcEGDn",
        "outputId": "a6998993-f571-4002-d3cc-0fdca04ca922"
      },
      "source": [
        "data = xr.open_dataset('https://dods.ndbc.noaa.gov/thredds/dodsC/data/stdmet/44065/44065.ncml')\n",
        "\n",
        "# data = data.sel(time=slice('2008-01-01','2021-03-30')) # This fails as of 3/9/21\n",
        "# data = data.sel(time=slice('2009-01-01','2021-03-30')) # Removing the first year works\n",
        "data = data.sel(time=slice('2008-01-01','2021-01-30')) # Removing the last 1-2 months works\n",
        "# data = data.sel(time=slice('2008-01-01','2021-02-01')) # But this also fails\n",
        "\n",
        "df = data.to_dataframe().reset_index().set_index('time') # Convert to dataframe to force loading of the full dataset\n",
        "df.tail(3)"
      ],
      "execution_count": null,
      "outputs": [
        {
          "output_type": "execute_result",
          "data": {
            "text/html": [
              "<div>\n",
              "<style scoped>\n",
              "    .dataframe tbody tr th:only-of-type {\n",
              "        vertical-align: middle;\n",
              "    }\n",
              "\n",
              "    .dataframe tbody tr th {\n",
              "        vertical-align: top;\n",
              "    }\n",
              "\n",
              "    .dataframe thead th {\n",
              "        text-align: right;\n",
              "    }\n",
              "</style>\n",
              "<table border=\"1\" class=\"dataframe\">\n",
              "  <thead>\n",
              "    <tr style=\"text-align: right;\">\n",
              "      <th></th>\n",
              "      <th>latitude</th>\n",
              "      <th>longitude</th>\n",
              "      <th>wind_dir</th>\n",
              "      <th>wind_spd</th>\n",
              "      <th>gust</th>\n",
              "      <th>wave_height</th>\n",
              "      <th>dominant_wpd</th>\n",
              "      <th>average_wpd</th>\n",
              "      <th>mean_wave_dir</th>\n",
              "      <th>air_pressure</th>\n",
              "      <th>air_temperature</th>\n",
              "      <th>sea_surface_temperature</th>\n",
              "      <th>dewpt_temperature</th>\n",
              "      <th>visibility</th>\n",
              "      <th>water_level</th>\n",
              "    </tr>\n",
              "    <tr>\n",
              "      <th>time</th>\n",
              "      <th></th>\n",
              "      <th></th>\n",
              "      <th></th>\n",
              "      <th></th>\n",
              "      <th></th>\n",
              "      <th></th>\n",
              "      <th></th>\n",
              "      <th></th>\n",
              "      <th></th>\n",
              "      <th></th>\n",
              "      <th></th>\n",
              "      <th></th>\n",
              "      <th></th>\n",
              "      <th></th>\n",
              "      <th></th>\n",
              "    </tr>\n",
              "  </thead>\n",
              "  <tbody>\n",
              "    <tr>\n",
              "      <th>2021-01-30 23:30:00</th>\n",
              "      <td>40.368999</td>\n",
              "      <td>-73.703003</td>\n",
              "      <td>299.0</td>\n",
              "      <td>7.7</td>\n",
              "      <td>10.3</td>\n",
              "      <td>NaN</td>\n",
              "      <td>NaT</td>\n",
              "      <td>NaT</td>\n",
              "      <td>NaN</td>\n",
              "      <td>1024.500000</td>\n",
              "      <td>NaN</td>\n",
              "      <td>4.4</td>\n",
              "      <td>NaN</td>\n",
              "      <td>NaN</td>\n",
              "      <td>NaN</td>\n",
              "    </tr>\n",
              "    <tr>\n",
              "      <th>2021-01-30 23:40:00</th>\n",
              "      <td>40.368999</td>\n",
              "      <td>-73.703003</td>\n",
              "      <td>304.0</td>\n",
              "      <td>6.9</td>\n",
              "      <td>8.9</td>\n",
              "      <td>1.18</td>\n",
              "      <td>0 days 00:00:12.119999886</td>\n",
              "      <td>0 days 00:00:05.610000134</td>\n",
              "      <td>134.0</td>\n",
              "      <td>1024.599976</td>\n",
              "      <td>NaN</td>\n",
              "      <td>4.4</td>\n",
              "      <td>NaN</td>\n",
              "      <td>NaN</td>\n",
              "      <td>NaN</td>\n",
              "    </tr>\n",
              "    <tr>\n",
              "      <th>2021-01-30 23:50:00</th>\n",
              "      <td>40.368999</td>\n",
              "      <td>-73.703003</td>\n",
              "      <td>297.0</td>\n",
              "      <td>6.7</td>\n",
              "      <td>8.8</td>\n",
              "      <td>NaN</td>\n",
              "      <td>NaT</td>\n",
              "      <td>NaT</td>\n",
              "      <td>NaN</td>\n",
              "      <td>1024.800049</td>\n",
              "      <td>NaN</td>\n",
              "      <td>4.4</td>\n",
              "      <td>NaN</td>\n",
              "      <td>NaN</td>\n",
              "      <td>NaN</td>\n",
              "    </tr>\n",
              "  </tbody>\n",
              "</table>\n",
              "</div>"
            ],
            "text/plain": [
              "                      latitude  longitude  ...  visibility  water_level\n",
              "time                                       ...                         \n",
              "2021-01-30 23:30:00  40.368999 -73.703003  ...         NaN          NaN\n",
              "2021-01-30 23:40:00  40.368999 -73.703003  ...         NaN          NaN\n",
              "2021-01-30 23:50:00  40.368999 -73.703003  ...         NaN          NaN\n",
              "\n",
              "[3 rows x 15 columns]"
            ]
          },
          "metadata": {
            "tags": []
          },
          "execution_count": 4
        }
      ]
    },
    {
      "cell_type": "code",
      "metadata": {
        "colab": {
          "base_uri": "https://localhost:8080/",
          "height": 313
        },
        "id": "ZyUkywrq6OPY",
        "outputId": "df843a94-40bb-40bf-a298-eb09d0f2f4a3"
      },
      "source": [
        "# Quick plot\n",
        "data['sea_surface_temperature'].plot();"
      ],
      "execution_count": null,
      "outputs": [
        {
          "output_type": "display_data",
          "data": {
            "image/png": "[encoded data removed]",
            "text/plain": [
              "<Figure size 432x288 with 1 Axes>"
            ]
          },
          "metadata": {
            "tags": [],
            "needs_background": "light"
          }
        }
      ]
    },
    {
      "cell_type": "markdown",
      "metadata": {
        "id": "e7zTVffFSdnK"
      },
      "source": [
        "Let's try the same approach for Station 44025."
      ]
    },
    {
      "cell_type": "code",
      "metadata": {
        "id": "xH7YEIo_Isq4",
        "colab": {
          "base_uri": "https://localhost:8080/",
          "height": 314
        },
        "outputId": "32c7f605-9d78-44ef-ec40-29401b683a42"
      },
      "source": [
        "data = xr.open_dataset('https://dods.ndbc.noaa.gov/thredds/dodsC/data/stdmet/44025/44025.ncml')\n",
        "\n",
        "# data = data.sel(time=slice('1975-01-01','2021-03-30')) # This fails as of 3/9/21\n",
        "# data = data.sel(time=slice('1976-01-01','2021-03-30')) # Removing the first year works\n",
        "data = data.sel(time=slice('1975-01-01','2021-01-30')) # Removing the last 1-2 months works\n",
        "# data = data.sel(time=slice('1975-01-01','2021-02-01')) # But this also fails\n",
        "\n",
        "data.sea_surface_temperature.plot();"
      ],
      "execution_count": null,
      "outputs": [
        {
          "output_type": "display_data",
          "data": {
            "image/png": "[encoded data removed]",
            "text/plain": [
              "<Figure size 432x288 with 1 Axes>"
            ]
          },
          "metadata": {
            "tags": [],
            "needs_background": "light"
          }
        }
      ]
    },
    {
      "cell_type": "markdown",
      "metadata": {
        "id": "WE4YVrywrRNR"
      },
      "source": [
        "So, if you don’t need the full range, you can leave off a year on either end.  Or alternatively, if you can find the offending time breaks, you might be able to make smaller requests and then merge them together.\n"
      ]
    },
    {
      "cell_type": "markdown",
      "metadata": {
        "id": "4lD4GKdgh7We"
      },
      "source": [
        "## Option 2 - Don't use the aggregate ncml file\n",
        "\n",
        "Another approach that seems to work, is to specify the individual data files using `open_mfdataset()` like this..."
      ]
    },
    {
      "cell_type": "code",
      "metadata": {
        "id": "PwDM24QVEIne"
      },
      "source": [
        "urls = ['https://dods.ndbc.noaa.gov/thredds/dodsC/data/stdmet/44065/44065h2008.nc',\n",
        "        'https://dods.ndbc.noaa.gov/thredds/dodsC/data/stdmet/44065/44065h2009.nc',\n",
        "        'https://dods.ndbc.noaa.gov/thredds/dodsC/data/stdmet/44065/44065h2010.nc',\n",
        "        'https://dods.ndbc.noaa.gov/thredds/dodsC/data/stdmet/44065/44065h2011.nc',\n",
        "        'https://dods.ndbc.noaa.gov/thredds/dodsC/data/stdmet/44065/44065h2012.nc',\n",
        "        'https://dods.ndbc.noaa.gov/thredds/dodsC/data/stdmet/44065/44065h2013.nc',\n",
        "        'https://dods.ndbc.noaa.gov/thredds/dodsC/data/stdmet/44065/44065h2014.nc',\n",
        "        'https://dods.ndbc.noaa.gov/thredds/dodsC/data/stdmet/44065/44065h2015.nc',\n",
        "        'https://dods.ndbc.noaa.gov/thredds/dodsC/data/stdmet/44065/44065h2016.nc',\n",
        "        'https://dods.ndbc.noaa.gov/thredds/dodsC/data/stdmet/44065/44065h2017.nc',\n",
        "        'https://dods.ndbc.noaa.gov/thredds/dodsC/data/stdmet/44065/44065h2018.nc',\n",
        "        'https://dods.ndbc.noaa.gov/thredds/dodsC/data/stdmet/44065/44065h2019.nc',\n",
        "        'https://dods.ndbc.noaa.gov/thredds/dodsC/data/stdmet/44065/44065h2020.nc',\n",
        "        'https://dods.ndbc.noaa.gov/thredds/dodsC/data/stdmet/44065/44065h2021.nc',\n",
        "]"
      ],
      "execution_count": null,
      "outputs": []
    },
    {
      "cell_type": "code",
      "metadata": {
        "colab": {
          "base_uri": "https://localhost:8080/",
          "height": 295
        },
        "id": "Xo2y-XkU6fUx",
        "outputId": "cc694e1c-24cb-484a-89a3-a9dfd089fc4b"
      },
      "source": [
        "data = xr.open_mfdataset(urls, combine='by_coords')\n",
        "df = data.to_dataframe().reset_index().set_index('time')\n",
        "df.tail(3)"
      ],
      "execution_count": null,
      "outputs": [
        {
          "output_type": "execute_result",
          "data": {
            "text/html": [
              "<div>\n",
              "<style scoped>\n",
              "    .dataframe tbody tr th:only-of-type {\n",
              "        vertical-align: middle;\n",
              "    }\n",
              "\n",
              "    .dataframe tbody tr th {\n",
              "        vertical-align: top;\n",
              "    }\n",
              "\n",
              "    .dataframe thead th {\n",
              "        text-align: right;\n",
              "    }\n",
              "</style>\n",
              "<table border=\"1\" class=\"dataframe\">\n",
              "  <thead>\n",
              "    <tr style=\"text-align: right;\">\n",
              "      <th></th>\n",
              "      <th>latitude</th>\n",
              "      <th>longitude</th>\n",
              "      <th>wind_dir</th>\n",
              "      <th>wind_spd</th>\n",
              "      <th>gust</th>\n",
              "      <th>wave_height</th>\n",
              "      <th>dominant_wpd</th>\n",
              "      <th>average_wpd</th>\n",
              "      <th>mean_wave_dir</th>\n",
              "      <th>air_pressure</th>\n",
              "      <th>air_temperature</th>\n",
              "      <th>sea_surface_temperature</th>\n",
              "      <th>dewpt_temperature</th>\n",
              "      <th>visibility</th>\n",
              "      <th>water_level</th>\n",
              "    </tr>\n",
              "    <tr>\n",
              "      <th>time</th>\n",
              "      <th></th>\n",
              "      <th></th>\n",
              "      <th></th>\n",
              "      <th></th>\n",
              "      <th></th>\n",
              "      <th></th>\n",
              "      <th></th>\n",
              "      <th></th>\n",
              "      <th></th>\n",
              "      <th></th>\n",
              "      <th></th>\n",
              "      <th></th>\n",
              "      <th></th>\n",
              "      <th></th>\n",
              "      <th></th>\n",
              "    </tr>\n",
              "  </thead>\n",
              "  <tbody>\n",
              "    <tr>\n",
              "      <th>2021-01-31 23:30:00</th>\n",
              "      <td>40.368999</td>\n",
              "      <td>-73.703003</td>\n",
              "      <td>69.0</td>\n",
              "      <td>8.2</td>\n",
              "      <td>10.5</td>\n",
              "      <td>NaN</td>\n",
              "      <td>NaT</td>\n",
              "      <td>NaT</td>\n",
              "      <td>NaN</td>\n",
              "      <td>1022.799988</td>\n",
              "      <td>NaN</td>\n",
              "      <td>4.2</td>\n",
              "      <td>NaN</td>\n",
              "      <td>NaN</td>\n",
              "      <td>NaN</td>\n",
              "    </tr>\n",
              "    <tr>\n",
              "      <th>2021-01-31 23:40:00</th>\n",
              "      <td>40.368999</td>\n",
              "      <td>-73.703003</td>\n",
              "      <td>70.0</td>\n",
              "      <td>8.4</td>\n",
              "      <td>10.1</td>\n",
              "      <td>1.36</td>\n",
              "      <td>0 days 00:00:14.810000420</td>\n",
              "      <td>0 days 00:00:05.820000172</td>\n",
              "      <td>126.0</td>\n",
              "      <td>1022.799988</td>\n",
              "      <td>NaN</td>\n",
              "      <td>4.2</td>\n",
              "      <td>NaN</td>\n",
              "      <td>NaN</td>\n",
              "      <td>NaN</td>\n",
              "    </tr>\n",
              "    <tr>\n",
              "      <th>2021-01-31 23:50:00</th>\n",
              "      <td>40.368999</td>\n",
              "      <td>-73.703003</td>\n",
              "      <td>69.0</td>\n",
              "      <td>8.2</td>\n",
              "      <td>10.1</td>\n",
              "      <td>NaN</td>\n",
              "      <td>NaT</td>\n",
              "      <td>NaT</td>\n",
              "      <td>NaN</td>\n",
              "      <td>1022.599976</td>\n",
              "      <td>NaN</td>\n",
              "      <td>4.2</td>\n",
              "      <td>NaN</td>\n",
              "      <td>NaN</td>\n",
              "      <td>NaN</td>\n",
              "    </tr>\n",
              "  </tbody>\n",
              "</table>\n",
              "</div>"
            ],
            "text/plain": [
              "                      latitude  longitude  ...  visibility  water_level\n",
              "time                                       ...                         \n",
              "2021-01-31 23:30:00  40.368999 -73.703003  ...         NaN          NaN\n",
              "2021-01-31 23:40:00  40.368999 -73.703003  ...         NaN          NaN\n",
              "2021-01-31 23:50:00  40.368999 -73.703003  ...         NaN          NaN\n",
              "\n",
              "[3 rows x 15 columns]"
            ]
          },
          "metadata": {
            "tags": []
          },
          "execution_count": 8
        }
      ]
    },
    {
      "cell_type": "markdown",
      "metadata": {
        "id": "Af-deQjuTEaf"
      },
      "source": [
        "## A Note about Realtime Data\n",
        "In the examples above, you'll notice that the most recent data available for both stations is from 1/31/2021, even though I'm running this script on 3/9/21.\n",
        "\n",
        "This is because the \"yearly\" netcdf files on the DODS server only seem to include \"verified\" data, which is added to the archive in monthly chunks.  (My guess is that this typically occurs approximately 45 days after the end of each month.)\n",
        "\n",
        "If you want real-time data, you will need to use the \"9999\" files available in each station's directory.  Apparently these files include some historic data as well, but how much varies from station to station.  \n",
        "\n",
        "So, if you want a full archive up to the present day, you'll have to make and merge multiple requests, as these recent/real-time data points are not available through the .ncml aggregation file.\n",
        "\n",
        "Here's a quick example for Station 44025.  You can see that this file includes several years of data, but nothing like the decades available in the example above."
      ]
    },
    {
      "cell_type": "code",
      "metadata": {
        "colab": {
          "base_uri": "https://localhost:8080/",
          "height": 313
        },
        "id": "9rGcEwS8XUPS",
        "outputId": "cc76359e-e17e-4ca1-9d1c-e44e116ad3cc"
      },
      "source": [
        "data = xr.open_dataset('https://dods.ndbc.noaa.gov/thredds/dodsC/data/stdmet/44025/44025h9999.nc')\n",
        "data.sea_surface_temperature.plot();"
      ],
      "execution_count": null,
      "outputs": [
        {
          "output_type": "display_data",
          "data": {
            "image/png": "[encoded data removed]",
            "text/plain": [
              "<Figure size 432x288 with 1 Axes>"
            ]
          },
          "metadata": {
            "tags": [],
            "needs_background": "light"
          }
        }
      ]
    },
    {
      "cell_type": "code",
      "metadata": {
        "id": "vqENwNX_YAkE",
        "colab": {
          "base_uri": "https://localhost:8080/",
          "height": 165
        },
        "outputId": "08a90b15-39d1-4450-a335-1d4c9b5f401e"
      },
      "source": [
        "df = data.to_dataframe().reset_index().set_index('time')\n",
        "df.head(1)"
      ],
      "execution_count": null,
      "outputs": [
        {
          "output_type": "execute_result",
          "data": {
            "text/html": [
              "<div>\n",
              "<style scoped>\n",
              "    .dataframe tbody tr th:only-of-type {\n",
              "        vertical-align: middle;\n",
              "    }\n",
              "\n",
              "    .dataframe tbody tr th {\n",
              "        vertical-align: top;\n",
              "    }\n",
              "\n",
              "    .dataframe thead th {\n",
              "        text-align: right;\n",
              "    }\n",
              "</style>\n",
              "<table border=\"1\" class=\"dataframe\">\n",
              "  <thead>\n",
              "    <tr style=\"text-align: right;\">\n",
              "      <th></th>\n",
              "      <th>latitude</th>\n",
              "      <th>longitude</th>\n",
              "      <th>wind_dir</th>\n",
              "      <th>wind_spd</th>\n",
              "      <th>gust</th>\n",
              "      <th>wave_height</th>\n",
              "      <th>dominant_wpd</th>\n",
              "      <th>average_wpd</th>\n",
              "      <th>mean_wave_dir</th>\n",
              "      <th>air_pressure</th>\n",
              "      <th>air_temperature</th>\n",
              "      <th>sea_surface_temperature</th>\n",
              "      <th>dewpt_temperature</th>\n",
              "      <th>visibility</th>\n",
              "      <th>water_level</th>\n",
              "    </tr>\n",
              "    <tr>\n",
              "      <th>time</th>\n",
              "      <th></th>\n",
              "      <th></th>\n",
              "      <th></th>\n",
              "      <th></th>\n",
              "      <th></th>\n",
              "      <th></th>\n",
              "      <th></th>\n",
              "      <th></th>\n",
              "      <th></th>\n",
              "      <th></th>\n",
              "      <th></th>\n",
              "      <th></th>\n",
              "      <th></th>\n",
              "      <th></th>\n",
              "      <th></th>\n",
              "    </tr>\n",
              "  </thead>\n",
              "  <tbody>\n",
              "    <tr>\n",
              "      <th>2014-09-18 19:50:00</th>\n",
              "      <td>40.25</td>\n",
              "      <td>-73.167</td>\n",
              "      <td>240.0</td>\n",
              "      <td>2.0</td>\n",
              "      <td>2.0</td>\n",
              "      <td>0.9</td>\n",
              "      <td>0 days 00:00:12</td>\n",
              "      <td>NaT</td>\n",
              "      <td>NaN</td>\n",
              "      <td>1016.200012</td>\n",
              "      <td>20.200001</td>\n",
              "      <td>21.299999</td>\n",
              "      <td>10.1</td>\n",
              "      <td>NaN</td>\n",
              "      <td>NaN</td>\n",
              "    </tr>\n",
              "  </tbody>\n",
              "</table>\n",
              "</div>"
            ],
            "text/plain": [
              "                     latitude  longitude  ...  visibility  water_level\n",
              "time                                      ...                         \n",
              "2014-09-18 19:50:00     40.25    -73.167  ...         NaN          NaN\n",
              "\n",
              "[1 rows x 15 columns]"
            ]
          },
          "metadata": {
            "tags": []
          },
          "execution_count": 10
        }
      ]
    },
    {
      "cell_type": "code",
      "metadata": {
        "colab": {
          "base_uri": "https://localhost:8080/",
          "height": 165
        },
        "id": "7oATAEemVdXZ",
        "outputId": "d038fc25-8293-44e2-c91d-34ceff7a9077"
      },
      "source": [
        "df.tail(1)"
      ],
      "execution_count": null,
      "outputs": [
        {
          "output_type": "execute_result",
          "data": {
            "text/html": [
              "<div>\n",
              "<style scoped>\n",
              "    .dataframe tbody tr th:only-of-type {\n",
              "        vertical-align: middle;\n",
              "    }\n",
              "\n",
              "    .dataframe tbody tr th {\n",
              "        vertical-align: top;\n",
              "    }\n",
              "\n",
              "    .dataframe thead th {\n",
              "        text-align: right;\n",
              "    }\n",
              "</style>\n",
              "<table border=\"1\" class=\"dataframe\">\n",
              "  <thead>\n",
              "    <tr style=\"text-align: right;\">\n",
              "      <th></th>\n",
              "      <th>latitude</th>\n",
              "      <th>longitude</th>\n",
              "      <th>wind_dir</th>\n",
              "      <th>wind_spd</th>\n",
              "      <th>gust</th>\n",
              "      <th>wave_height</th>\n",
              "      <th>dominant_wpd</th>\n",
              "      <th>average_wpd</th>\n",
              "      <th>mean_wave_dir</th>\n",
              "      <th>air_pressure</th>\n",
              "      <th>air_temperature</th>\n",
              "      <th>sea_surface_temperature</th>\n",
              "      <th>dewpt_temperature</th>\n",
              "      <th>visibility</th>\n",
              "      <th>water_level</th>\n",
              "    </tr>\n",
              "    <tr>\n",
              "      <th>time</th>\n",
              "      <th></th>\n",
              "      <th></th>\n",
              "      <th></th>\n",
              "      <th></th>\n",
              "      <th></th>\n",
              "      <th></th>\n",
              "      <th></th>\n",
              "      <th></th>\n",
              "      <th></th>\n",
              "      <th></th>\n",
              "      <th></th>\n",
              "      <th></th>\n",
              "      <th></th>\n",
              "      <th></th>\n",
              "      <th></th>\n",
              "    </tr>\n",
              "  </thead>\n",
              "  <tbody>\n",
              "    <tr>\n",
              "      <th>2021-03-09 17:30:00</th>\n",
              "      <td>40.25</td>\n",
              "      <td>-73.167</td>\n",
              "      <td>240.0</td>\n",
              "      <td>5.0</td>\n",
              "      <td>6.0</td>\n",
              "      <td>NaN</td>\n",
              "      <td>NaT</td>\n",
              "      <td>NaT</td>\n",
              "      <td>NaN</td>\n",
              "      <td>1025.5</td>\n",
              "      <td>NaN</td>\n",
              "      <td>5.1</td>\n",
              "      <td>NaN</td>\n",
              "      <td>NaN</td>\n",
              "      <td>NaN</td>\n",
              "    </tr>\n",
              "  </tbody>\n",
              "</table>\n",
              "</div>"
            ],
            "text/plain": [
              "                     latitude  longitude  ...  visibility  water_level\n",
              "time                                      ...                         \n",
              "2021-03-09 17:30:00     40.25    -73.167  ...         NaN          NaN\n",
              "\n",
              "[1 rows x 15 columns]"
            ]
          },
          "metadata": {
            "tags": []
          },
          "execution_count": 11
        }
      ]
    },
    {
      "cell_type": "markdown",
      "metadata": {
        "id": "6bPYvDq4XXOe"
      },
      "source": [
        "For more guidance, check out my [Accessing NDBC Data](https://github.com/ooi-data-lab/datalab-blog-examples/blob/master/2020/02_Accessing_NDBC_Data.ipynb) tutorial, as well as the other [Python Examples](https://datalab.marine.rutgers.edu/category/python-examples/) on the Ocean Data Labs site."
      ]
    }
  ]
}